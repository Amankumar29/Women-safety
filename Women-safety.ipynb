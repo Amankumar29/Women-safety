{
 "cells": [
  {
   "cell_type": "code",
   "execution_count": 4,
   "metadata": {},
   "outputs": [],
   "source": [
    "import requests\n",
    "import smtplib"
   ]
  },
  {
   "cell_type": "code",
   "execution_count": 15,
   "metadata": {},
   "outputs": [
    {
     "name": "stdout",
     "output_type": "stream",
     "text": [
      "city : Delhi\n",
      "longitude : 77.2315\n",
      "latitude : 28.6519\n"
     ]
    },
    {
     "data": {
      "text/plain": [
       "(221, b'2.0.0 closing connection k88sm5539858pjk.19 - gsmtp')"
      ]
     },
     "execution_count": 15,
     "metadata": {},
     "output_type": "execute_result"
    }
   ],
   "source": [
    "\n",
    "res= requests.get('https://ipinfo.io/')\n",
    "data = res.json()\n",
    "city = data['city']\n",
    "location = data['loc'].split(',')\n",
    "lat = location[0]\n",
    "lon = location[1]\n",
    "\n",
    "print(\"city :\", city)\n",
    "print(\"longitude :\", lon)\n",
    "print(\"latitude :\", lat)\n",
    "aman = (\"EMERGENCY\" + \"Longitude:\" +lat +\"Latitude: \"+ lon+\"city : \" + city) \n",
    "\n",
    "server = smtplib.SMTP_SSL(\"smtp.gmail.com\", 465)\n",
    "server.login(\"ak9911388389@gmail.com\", \"Aman@2001\")\n",
    "server.sendmail(\"ak9911388389@gmail.com\", \"kumaramanjha2901@gmail.com\", aman)\n",
    "server.quit()"
   ]
  },
  {
   "cell_type": "code",
   "execution_count": null,
   "metadata": {},
   "outputs": [],
   "source": []
  },
  {
   "cell_type": "code",
   "execution_count": null,
   "metadata": {},
   "outputs": [],
   "source": []
  }
 ],
 "metadata": {
  "kernelspec": {
   "display_name": "Python 3",
   "language": "python",
   "name": "python3"
  },
  "language_info": {
   "codemirror_mode": {
    "name": "ipython",
    "version": 3
   },
   "file_extension": ".py",
   "mimetype": "text/x-python",
   "name": "python",
   "nbconvert_exporter": "python",
   "pygments_lexer": "ipython3",
   "version": "3.7.6"
  }
 },
 "nbformat": 4,
 "nbformat_minor": 4
}
